{
 "cells": [
  {
   "cell_type": "markdown",
   "metadata": {},
   "source": [
    "# NumPy y algebra lineal(parte 2) \n",
    "\n",
    "\n",
    "Ya hemos estudiado el objeto básico en algebra lineal: **el vector** ,algunos de sus usos e interpretaciones , así como la forma de trabajar con estos en Python a través de NumPy ,funciones matemáticas útiles y comunes entre otras cosas.\n",
    "\n",
    "Además mencionamos el objeto general **Tensor** y su equivalente en NumPy : **np.ndarray**. \n",
    "\n",
    "En esta parte del curso nos enfocamos en otro objeto muy importante en algebra lineal y en ciencia de datos: **la matriz**.\n",
    "\n",
    "Muchas de las cosas que aprendimos en vectores aplican también a matrices,algunas exactamente igual, algunas con pequeñas variaciones, y algunas otras si son específicas .De manera similar muchas cosas que aprenderemos en matrices también aplican y son consistentes en el caso mas géneral: **arreglos multidimensionales(o tensores matemáticamente)** de manera que podemos generalizar mucho de lo aprendido.\n",
    "\n",
    "## ¿Por que estudiamos matrices en ciencia de datos?\n",
    "\n",
    "Similar al caso de vectores, usamos matrices para almacenar y operar en colecciones de datos.\n",
    "\n",
    "Cuando estudiamos previamente vectores , los vectores representaban en la mayoría de casos 2 tipos de información:\n",
    "\n",
    "* Una única observación o entidad con múltiples características: Por ejemplo los ejemplos de distribuciones discretas de probabilidad usadas en los ejemplos de entropía,una única observación con múltiples características(la probabilidad de ocurrencia de cada valor).\n",
    "* Múltiples observaciones o entidades, con una sola característica: cuando hicimos el ejemplo de medias móviles teniamos múltiples observaciones o entidades(cada punto de datos) pero cada observación tenia una sola característica.\n",
    "\n",
    "Esto puede bastar en muchos casos, pero para la mayoría de problemas trabajaremos con  muchas observaciones que poseen mas de una característica. Por lo cual necesitamos una estructura mas general que nos permita hacer esto, la estructura que nos permite hacer esto es lo que conocemos en matemática como **matriz** y en programación comunmente llamamos **arreglo bi-dimensional**\n",
    "\n",
    "**nota**: desafortunadamente el término dimension(y su derivado :dimensional) puede llegar a ser ambiguo , por ejemplo  : un vector bi-dimensional es algo completamente diferente a un arreglo bi-dimensional ,el vector bi-dimensional es una colección de 2 elementos mientras que el arreglo bi-dimensional es una estructura tabular que requiere de 2 coordenadas(o indices) para ser accedido.\n",
    "\n",
    "## ¿ Que es una matriz?\n",
    "\n",
    "Hay diversas definiciones de matriz , siendo la mas común: **un arreglo bidimensional de números**. Algunas otras definiciones desde el punto de vista matemático son:\n",
    "\n",
    "* Conjunto de números distribuidos ORDENADAMENTE de forma rectangular formando filas y columnas.\n",
    "* Tabla de números ORDENADOS.\n",
    "* Colección tabular de elementos distribuidos en filas y columnas.\n",
    "\n",
    "En matemática la definición suele estar orientada e incluso limitada a números(se dice que una matriz es una colección de elementos que pueden ser sumados y multiplicados) ,en programación se extiende un poco esto y podemos trabajar en algunos casos con colecciones rectangulares de otros tipos de objetos , para efectos de ciencia de datos nos enfocamos mayormente también en matrices como:**colecciones de números organizados de manera rectangular(distribuidos en filas y columnas)**.\n",
    "\n",
    "En matemática comunmente denotamos las matrices con letras mayúsculas, esta es una práctica que aveces adoptamos también en programación.\n",
    "\n",
    "\n",
    "<img src=\"https://ekuatio.com/wp-content/uploads/tipos-de-matrices-12.png\"/>\n",
    "\n",
    "<img src=\"http://www.multivariado.sobralmatematica.org/textos/derivada_files/matriz_34.png\"/>\n",
    "\n",
    "### Dimension o tamaño de una matriz\n",
    "\n",
    "El tamaño o dimensión de una matriz nos indica cuantos elementos esta posee y como estos se organizan en filas y columnas, comunmente denotamos el t amaño o dimensión como:\n",
    "$$ m x n $$\n",
    "\n",
    "* m = número de filas: comunmente número de observaciones, entidades o eventos\n",
    "* n = número de columnas : número de características de interes o descriptivas de cada elemento.\n",
    "\n",
    "<img src=\"https://upload.wikimedia.org/wikipedia/commons/thumb/b/bb/Matrix.svg/1200px-Matrix.svg.png\">\n",
    "\n",
    "**Nota** : esto no es un estandar y pueden llegar a variar:\n",
    "* encontrarse casos donde la data este organizada por columna siendo m = número de columnas y n = número de filas.\n",
    "* En computer visión aveces se toman las posiciones en filas de abajo hacia arriba.\n",
    "### Ejemplos:\n",
    "\n",
    "* En Machine Learning para datos estructurados comunmente trabajamos con muchas observaciones llamadas \"ejemplos de entrenamiento\" donde cada ejemplo esta caracterizado por múltiples características(llamadas features en ML), para esto usamos una matriz.\n",
    "* En analisis de correlación entre variables podemos almacenar múltiples variables para múltiples observaciones.\n",
    "* En deep learnig los parametros(pesos sinapticos) de una red neuronal  son representados como matrices \n",
    "\n",
    "<img src=\"https://gdsgenie.com/gds-training/statistical-data-set/?view_eckr=statistical+data+set.png\">\n",
    "\n",
    "## Matriz como Tensor\n",
    "\n",
    "Tal como ya hemos mencionado, el objeto mas general en algebra lineal es el **tensor** y tanto vectores como matrices son un **tensor** , la característica que determina cuando un tensor es una matriz o un vector es el **rango del tensor**, el rango es un entero que nos indica cuantos valores necesitamos para poder acceder o especificar a un elemento dentro del tensor.\n",
    "\n",
    "* **Escalares**: tensor de rango 0, puesto que son un único elemento numérico y no pertenecen a una colección , no tiene sentido la noción de tener un número indicando su posición en una colección.\n",
    "* **Vectores**: tensor de rango 1, lo conceptualizamos como una lista de elementos por lo tanto necesitamos 1 número para especificar la posición de cierto elemento en la lista.\n",
    "* **Matriz**: tensor de rango 2, pensamos en la matriz como una colección de números organizados de forma  rectangular en filas y columnas por lo tanto para acceder o especificar un elemento de la matriz necesitamos 2 números : 1 para la fila(que comunmente representamos con \"i\") y otro para la columna(que comunmente representamos con \"j\") en la que se encuentra cierto elemento.\n",
    "\n",
    "## Representación o interpretación geométrica/gráfica de una matriz\n",
    "\n",
    "\n",
    "Tal como vimos que un vector podía tener una representación geométrica como puntos en el espacio(o flechas apuntando del origen a puntos) una matriz también interpretarse de manera geométrica o gráfica ,hablaremos un poco de esto en el futuro :\n",
    "\n",
    "* **Matriz como transformación del espacio(y como función)**\n",
    "\n",
    "<img src=\"https://thumbs.gfycat.com/HealthyPerfectHaddock-max-1mb.gif\">\n",
    "\n",
    "<img src=\"https://thumbs.gfycat.com/SmartNearAmericancrocodile-max-1mb.gif\">\n",
    "\n",
    "## Matrices en NumPy\n",
    "\n",
    "En NumPy las matrices son(de manera similar a los vectores) son objetos del tipo **np.ndarray**, la diferencia es la forma en que estos estan organizados y por lo tanto ciertas características de los mismos. Para una matríz tenemos que:\n",
    "\n",
    "* **ndim**: el rango es igual a 2\n",
    "* **shape** : la forma o tamaño de la matriz es una **tupla de la forma (m,n)** con m siendo el número de filas y n el número de columnas. De manera similar muchas funciones  para crear matrices utilizan como parámetro una tupla para definir la forma en la que será creada.\n"
   ]
  },
  {
   "cell_type": "code",
   "execution_count": 1,
   "metadata": {},
   "outputs": [],
   "source": [
    "## Para poder utilizar numpy debemos importar el paquete, es casi un estandar de la industria importarlo bajo el alias **\"np\"**\n",
    "import numpy as np"
   ]
  },
  {
   "cell_type": "code",
   "execution_count": 2,
   "metadata": {},
   "outputs": [
    {
     "name": "stdout",
     "output_type": "stream",
     "text": [
      "Rango del tensor: 2\n",
      "Forma o tamaño: (3, 4)\n",
      "Matriz de ceros de forma: (3, 4)\n",
      "Filas: 3\n",
      "Columnas: 4\n",
      "Matriz:\n",
      "[[0. 0. 0. 0.]\n",
      " [0. 0. 0. 0.]\n",
      " [0. 0. 0. 0.]]\n"
     ]
    }
   ],
   "source": [
    "matriz_ceros = np.zeros((3,4))\n",
    "tamaño_matriz = matriz_ceros.shape\n",
    "\n",
    "print(\"Rango del tensor:\",matriz_ceros.ndim) #rango del tensor, para matriz es 2\n",
    "print(\"Forma o tamaño:\",tamaño_matriz) # tupla representando el tamaño de la matríz\n",
    "\n",
    "print(\"Matriz de ceros de forma:\",tamaño_matriz)\n",
    "print(\"Filas:\",tamaño_matriz[0])\n",
    "print(\"Columnas:\",tamaño_matriz[1])\n",
    "print(\"Matriz:\")\n",
    "print(matriz_ceros)"
   ]
  },
  {
   "cell_type": "markdown",
   "metadata": {},
   "source": [
    "## Visualizacion de datos en Python\n",
    "\n",
    "Con el conocimiento que ya poseemos para trabajar con Python y Numpy, y el conocimiento de matrices podemos empezar a a estudiar un tema muy importante en ciencia de datos: **visualizacion de datos**.\n",
    "\n",
    "La visualizacion de datos es sumamente importante y tiene muchos usos, es una herramienta escencial en la fase de todo proyecto de data science conocida como **\"analisis exploratorio de datos\"**.\n",
    "\n",
    "### Analisis exploratorio de datos\n",
    "\n",
    "El analisis exploratorio de datos , tal y como su nombre indica nos permite explorar, entender, conocer y familiarizarnos con los datos,lo cual es muy recomendable en todo proyecto y se recomienda hacerlo antes de empezar a hacer pruebas de hipotesis, modelado matematico/estadistico o modelado por machine learning o cualquier otra tecnica  de ciencia de datos.\n",
    "\n",
    "<img src=\"https://cdn-images-1.medium.com/max/1200/1*vJULpN2xQfyVsvTVW-JSkA.png\">\n",
    "\n",
    "### Otros usos\n",
    "\n",
    "Ademas del analisis exploratorio de datos, la visualizacion de los mismos es muy util y aplicado en muchas otras areas:\n",
    "\n",
    "* Modelacion y simulacion: analisis del comportamiento de una variable bajo analisis a traves de simulacion.\n",
    "<img src=\"https://risk-engineering.org/static/img/large/monte-carlo-VaR.png\">\n",
    "* Curvas de aprendizaje: durante el desarrollo de un proyecto de ML es necesario evaluar el funcionamiento de un modelo de ML y su comportamiento a traves del tiempo durante el entrenamiento.\n",
    "<img src=\"https://3qeqpr26caki16dnhd19sv6by6v-wpengine.netdna-ssl.com/wp-content/uploads/2018/10/Line-Plot-of-Train-and-Test-Loss-During-Training-With-Simple-Early-Stopping.png\">\n",
    "* Comparar modelo de ML vs datos reales\n",
    "<img src=\"https://s3.amazonaws.com/stackabuse/media/linear-regression-python-scikit-learn-1.png\">\n",
    "* Visualizacion de imagenenes en proyectos de vision por computadora.\n",
    "<img src=\"https://encrypted-tbn0.gstatic.com/images?q=tbn:ANd9GcQY4FRGTsV_ugt6DyJmolPHiiaDH3lLCEaGSuh_ZN0NUjrOM_VE7Q\">\n",
    "\n",
    "\n",
    "Existen diversos paquetes para visualizacion de datos en Python,pero el mas popular, usado y conocido en la industria es: \n",
    "#### Matplotlib"
   ]
  },
  {
   "cell_type": "markdown",
   "metadata": {},
   "source": [
    "# Instalar matplitlib desde el jupyter notebook en el ambiente actual de Anaconda\n",
    "# esto puede ser realizado de manera tradicional con linea de comandos o Anaconda Navigator\n",
    "import sys\n",
    "#!conda install --yes --prefix {sys.prefix} matplotlib\n",
    "\n",
    "# ! ejecuta un comando del sistema desde el notebook, el comando ejecutado fue:\n",
    "print(\"Comando ejecutado:conda install --yes --prefix {\"+sys.prefix+\"} matplotlib\")"
   ]
  },
  {
   "cell_type": "code",
   "execution_count": 3,
   "metadata": {},
   "outputs": [],
   "source": [
    "import matplotlib.pyplot as plt"
   ]
  },
  {
   "cell_type": "code",
   "execution_count": 4,
   "metadata": {},
   "outputs": [
    {
     "data": {
      "image/png": "[encoded data removed]",
      "text/plain": [
       "<Figure size 432x288 with 1 Axes>"
      ]
     },
     "metadata": {
      "needs_background": "light"
     },
     "output_type": "display_data"
    }
   ],
   "source": [
    "x = np.linspace(-2*np.pi,2*np.pi,100)\n",
    "y = np.sin(x)\n",
    "\n",
    "plt.plot(x,y)\n",
    "\n",
    "plt.xlabel('x')\n",
    "plt.ylabel('y')\n",
    "plt.title('Grafica de y = sin(x) ')\n",
    "\n",
    "\n",
    "plt.savefig('sinx.pdf')\n",
    "plt.show()"
   ]
  },
  {
   "cell_type": "markdown",
   "metadata": {},
   "source": [
    "#### Matplotlib orientado a objetos\n",
    "\n",
    "El ejemplo anterior provee una forma facil y rapida de visualizar graficas sencillas con matplotlib , pero matpliblib posee un enfoque \"orientado a objetos\" que es mas versatil y permite mayor personalizacion, por lo cual es recomendado salvo casos donde se necesita graficas sencillas de manera rapida.\n",
    "\n",
    "##### Jerarquia de objetos en matplotlib\n",
    "\n",
    "Al trabajar matplotlib orientado a objetos ,el tipo de objeto base es el tipo **plt.figure()**(https://matplotlib.org/api/_as_gen/matplotlib.pyplot.figure.html) el cual podemos conceptualizar como el canvas sobre el cual agregaremos contenido . \n",
    "\n",
    "Sobre un objeto **plt.figure()** podemos crear uno o muchos objetos tipo **axes.Axes()** (https://matplotlib.org/api/axes_api.html#matplotlib.axes.Axes), una instancia de Axes() corresponde a una grafica como la vista en el ejemplo anterior, por lo cual agregar a un \"figure\" varios \"Axes\" significa crear una coleccion de graficas sobre una misma figura.\n",
    "\n",
    "El siguiente ejemplo genera la misma grafica que en el caso anterior ,pero usando matplotlib orientado a objetos."
   ]
  },
  {
   "cell_type": "code",
   "execution_count": 9,
   "metadata": {},
   "outputs": [
    {
     "data": {
      "image/png": "[encoded data removed]",
      "text/plain": [
       "<Figure size 432x288 with 1 Axes>"
      ]
     },
     "metadata": {
      "needs_background": "light"
     },
     "output_type": "display_data"
    }
   ],
   "source": [
    "%matplotlib inline\n",
    "fig = plt.figure()\n",
    "ax = fig.add_subplot(1,1,1) #creamos un canvas con  1 fila, 1 columna y devolvemos una referencia a la primera grafica\n",
    "#ax = fig.add_subplot(111) \n",
    "\n",
    "ax.plot(x,y)\n",
    "\n",
    "ax.set_xlabel('x')\n",
    "ax.set_ylabel('y')\n",
    "ax.set_title('Grafica de y = sin(x)')\n",
    "\n",
    "plt.show()"
   ]
  },
  {
   "cell_type": "markdown",
   "metadata": {},
   "source": [
    "El siguiente ejemplo consiste en un figure con 4 graficas(Axes)"
   ]
  },
  {
   "cell_type": "code",
   "execution_count": 5,
   "metadata": {},
   "outputs": [
    {
     "data": {
      "image/png": "[encoded data removed]",
      "text/plain": [
       "<Figure size 432x288 with 4 Axes>"
      ]
     },
     "metadata": {
      "needs_background": "light"
     },
     "output_type": "display_data"
    }
   ],
   "source": [
    "fig  = plt.figure()\n",
    "\n",
    "# el figure tendra 4 graficas organizadas en 2 filas y 2 columnas\n",
    "ax1 = fig.add_subplot(2,2,1) #221\n",
    "ax2 = fig.add_subplot(2,2,2) #222\n",
    "ax3 = fig.add_subplot(2,2,3)  # 223\n",
    "ax4 = fig.add_subplot(2,2,4) # 224\n",
    "\n",
    "ax1.plot(x,x)\n",
    "ax2.plot(x,np.sin(x))\n",
    "ax3.plot(x,np.cos(x))\n",
    "ax4.plot(x,np.exp(x))\n",
    "\n",
    "plt.show()"
   ]
  },
  {
   "cell_type": "markdown",
   "metadata": {},
   "source": [
    "##### Estilo de curvas\n",
    "\n",
    "Matplotlib provee multiples formas de dar estilo a las graficas y es ampliamente configurable y adaptable,  por esta misma razon la documentacion es amplia por lo cual se recomienda consultarla como referencia constantemente al estar trabajando con visualizacion de datos.\n",
    "\n",
    "Algunas de las caracteristicas  del estilo de curvas que mas comunmente se configuran y personalizan son:\n",
    "\n",
    "* Color: comunmente se trabaja con la primera letra ,por ejemplo:\n",
    "    * r = rojo\n",
    "    * b = azul(color default)\n",
    "    * g = verde\n",
    "    * y = amarillo\n",
    "\n",
    "* Estilo de linea: usado para definir si la grafica consistira en  lineas solidas,  o discontinuas, algunos tipos son:\n",
    "    * -  :linea solida, el tipo default\n",
    "    * -- :linea discontinua\n",
    "    * -. :curva discontinua formada por lineas y puntos.\n",
    "* Grosor de linea"
   ]
  },
  {
   "cell_type": "code",
   "execution_count": 6,
   "metadata": {},
   "outputs": [
    {
     "data": {
      "image/png": "[encoded data removed]",
      "text/plain": [
       "<Figure size 432x288 with 1 Axes>"
      ]
     },
     "metadata": {
      "needs_background": "light"
     },
     "output_type": "display_data"
    }
   ],
   "source": [
    "fig = plt.figure()\n",
    "ax = fig.add_subplot(1,1,1) #creamos un canvas con  1 fila, 1 columna y devolvemos una referencia a la primera grafica\n",
    "#ax = fig.add_subplot(111) \n",
    "\n",
    "ax.plot(x, np.exp(x) ,color=\"g\") # tambien se pudo usar \"green\" en lugar de el abreviado \"g\"\n",
    "\n",
    "ax.set_xlabel('x')\n",
    "ax.set_ylabel('y')\n",
    "ax.set_title('Grafica de y = exp(x)')\n",
    "\n",
    "plt.show()"
   ]
  },
  {
   "cell_type": "markdown",
   "metadata": {},
   "source": [
    "La forma mas comun de trabajar con el estilo de curvas es crear un \"string\" con la configuracion deseada, por ejemplo el string \"r-.\" produce luna grafica roja con una linea que consiste en -. en cada punto."
   ]
  },
  {
   "cell_type": "code",
   "execution_count": 13,
   "metadata": {},
   "outputs": [
    {
     "data": {
      "image/png": "[encoded data removed]",
      "text/plain": [
       "<Figure size 432x288 with 1 Axes>"
      ]
     },
     "metadata": {
      "needs_background": "light"
     },
     "output_type": "display_data"
    }
   ],
   "source": [
    "fig = plt.figure()\n",
    "ax = fig.add_subplot(1,1,1) #creamos un canvas con  1 fila, 1 columna y devolvemos una referencia a la primera grafica\n",
    "#ax = fig.add_subplot(111) \n",
    "\n",
    "ax.plot(x, np.exp(x) ,\"r-.\") \n",
    "\n",
    "ax.set_xlabel('x')\n",
    "ax.set_ylabel('y')\n",
    "ax.set_title('Grafica de y = exp(x)')\n",
    "\n",
    "plt.show()"
   ]
  },
  {
   "cell_type": "markdown",
   "metadata": {},
   "source": [
    "Podemos cambiar el grosor de linea agregando un parametro adicional linewidth o lw:"
   ]
  },
  {
   "cell_type": "code",
   "execution_count": 7,
   "metadata": {},
   "outputs": [
    {
     "data": {
      "image/png": "[encoded data removed]",
      "text/plain": [
       "<Figure size 432x288 with 1 Axes>"
      ]
     },
     "metadata": {
      "needs_background": "light"
     },
     "output_type": "display_data"
    }
   ],
   "source": [
    "fig = plt.figure()\n",
    "ax = fig.add_subplot(1,1,1) #creamos un canvas con  1 fila, 1 columna y devolvemos una referencia a la primera grafica\n",
    "#ax = fig.add_subplot(111) \n",
    "\n",
    "ax.plot(x, np.exp(x) ,\"y-\",linewidth=4)  #\n",
    "#ax.plot(x, np.exp(x) ,\"y:\",lw=4) \n",
    "\n",
    "ax.set_xlabel('x')\n",
    "ax.set_ylabel('y')\n",
    "ax.set_title('Grafica de y = exp(x)')\n",
    "\n",
    "plt.show()"
   ]
  },
  {
   "cell_type": "code",
   "execution_count": 8,
   "metadata": {},
   "outputs": [
    {
     "data": {
      "image/png": "[encoded data removed]",
      "text/plain": [
       "<Figure size 432x288 with 1 Axes>"
      ]
     },
     "metadata": {
      "needs_background": "light"
     },
     "output_type": "display_data"
    }
   ],
   "source": [
    "fig = plt.figure()\n",
    "ax = fig.add_subplot(1,1,1) #creamos un canvas con  1 fila, 1 columna y devolvemos una referencia a la primera grafica\n",
    "#ax = fig.add_subplot(111) \n",
    "\n",
    "ax.plot(x, np.exp(x) ,\"m--\",linewidth=2)  #\n",
    "#ax.plot(x, np.exp(x) ,\"y:\",lw=4) \n",
    "\n",
    "ax.set_xlabel('x')\n",
    "ax.set_ylabel('y')\n",
    "ax.set_title('Grafica de y = exp(x)')\n",
    "\n",
    "plt.show()"
   ]
  },
  {
   "cell_type": "markdown",
   "metadata": {},
   "source": [
    "##### Scatterplots\n",
    "\n",
    "En todos los ejemplos anteriores hemos usado la funcion \"plot\" ,esta es comun para graficar funciones matematicas y en casos donde necesitemos que  todos los puntos en la grafica esten conectados, en casos donde deseamos graficar unicamente los datos sin lineas que conecten punto con punto , algo muy comun en data science cuando se poseen datos pero no se conoce el modelo o funcion matematica que los relaciona(por ejemplo en la fase de analisis exploratorio), para eso usamos la funcion **\"scatter\"**"
   ]
  },
  {
   "cell_type": "code",
   "execution_count": 17,
   "metadata": {},
   "outputs": [
    {
     "data": {
      "image/png": "[encoded data removed]",
      "text/plain": [
       "<Figure size 432x288 with 1 Axes>"
      ]
     },
     "metadata": {
      "needs_background": "light"
     },
     "output_type": "display_data"
    }
   ],
   "source": [
    "x = np.array([1,2,3,4,5])\n",
    "y = np.array([2.6,3.9,6.25,7.6,11])\n",
    "\n",
    "fig = plt.figure()\n",
    "ax = fig.add_subplot(1,1,1) #creamos un canvas con  1 fila, 1 columna y devolvemos una referencia a la primera grafica\n",
    "#ax = fig.add_subplot(111) \n",
    "\n",
    "ax.scatter(x, y,marker=\"v\",color=\"g\")  # experimentar con los siguientes markers o', 'v', '^', '<', '>', '8', 's', 'p', '*', 'h', 'H', 'D', 'd', 'P', 'X'#\n",
    "#ax.scatter(x, y,color=\"g\")  # experimentar con los siguientes markers o', 'v', '^', '<', '>', '8', 's', 'p', '*', 'h', 'H', 'D', 'd', 'P', 'X'\n",
    "\n",
    "ax.set_xlabel('x')\n",
    "ax.set_ylabel('y')\n",
    "ax.set_title('Scatterplot python')\n",
    "\n",
    "plt.show()"
   ]
  },
  {
   "cell_type": "markdown",
   "metadata": {},
   "source": [
    "### Diagonal principal de una matriz\n",
    "\n",
    "La diagonal principal(aveces solo llamada diagonal) es  el conjunto de elementos conformados al recorrer la matriz desde la primera fila y primera columna ,luego segunda fila y segunda columna y asi sucesivamente hasta donde el tamaño de la matriz permita.\n",
    "\n",
    "<img src=\"http://navarrof.orgfree.com/Docencia/MatematicasI/UT4/ut4t1f8.gif\">"
   ]
  },
  {
   "cell_type": "code",
   "execution_count": 18,
   "metadata": {},
   "outputs": [],
   "source": [
    "matriz = np.array([[1,2,3],\n",
    "                   [5,6,7],\n",
    "                   [8,9,10]])"
   ]
  },
  {
   "cell_type": "code",
   "execution_count": 19,
   "metadata": {},
   "outputs": [
    {
     "name": "stdout",
     "output_type": "stream",
     "text": [
      "Matriz:\n",
      "[[ 1  2  3]\n",
      " [ 5  6  7]\n",
      " [ 8  9 10]]\n"
     ]
    }
   ],
   "source": [
    "print(\"Matriz:\")\n",
    "print(matriz)"
   ]
  },
  {
   "cell_type": "code",
   "execution_count": 20,
   "metadata": {},
   "outputs": [
    {
     "data": {
      "text/plain": [
       "array([ 1,  6, 10])"
      ]
     },
     "execution_count": 20,
     "metadata": {},
     "output_type": "execute_result"
    }
   ],
   "source": [
    "matriz.diagonal()"
   ]
  },
  {
   "cell_type": "code",
   "execution_count": 46,
   "metadata": {},
   "outputs": [
    {
     "data": {
      "text/plain": [
       "array([ 1,  6, 10])"
      ]
     },
     "execution_count": 46,
     "metadata": {},
     "output_type": "execute_result"
    }
   ],
   "source": [
    "np.diag(matriz)"
   ]
  },
  {
   "cell_type": "code",
   "execution_count": 47,
   "metadata": {},
   "outputs": [
    {
     "data": {
      "text/plain": [
       "array([ 1,  6, 10])"
      ]
     },
     "execution_count": 47,
     "metadata": {},
     "output_type": "execute_result"
    }
   ],
   "source": [
    "np.diag(matriz)"
   ]
  },
  {
   "cell_type": "code",
   "execution_count": 48,
   "metadata": {},
   "outputs": [
    {
     "name": "stdout",
     "output_type": "stream",
     "text": [
      "[[ 0  1  2  3]\n",
      " [ 4  5  6  7]\n",
      " [ 8  9 10 11]\n",
      " [12 13 14 15]]\n"
     ]
    }
   ],
   "source": [
    "matriz_cuadrada = np.reshape(np.arange(16),(4,4))\n",
    "\n",
    "print(matriz_cuadrada)"
   ]
  },
  {
   "cell_type": "code",
   "execution_count": 49,
   "metadata": {},
   "outputs": [
    {
     "data": {
      "text/plain": [
       "array([ 0,  5, 10, 15])"
      ]
     },
     "execution_count": 49,
     "metadata": {},
     "output_type": "execute_result"
    }
   ],
   "source": [
    "matriz_cuadrada.diagonal()"
   ]
  },
  {
   "cell_type": "markdown",
   "metadata": {},
   "source": [
    "### Constructores de matrices\n",
    "\n",
    "NumPy provee diversas funciones para crear matrices , algunas de las cuales ya vimos cuando estudiamos vectores , la diferencia consiste en que ahora ya no usamos un número para indicar el tamaño de un vector, si no una **tupla** de 2 elementos: (m,n) . Algunas de las funciones  que aplican tanto a vectores como a matrices son:\n",
    "\n",
    "* np.array: crear una matriz a partir de una lista de listas: cada fila es una sublista\n",
    "* np.zeros: crear una matriz de ceros\n",
    "* np.ones: crear una matriz de unos\n",
    "* np.empty: crear una matriz sin importarnos sus valores\n",
    "* np.full: crear una matriz  con cierto valor\n",
    "* np.copy: crea un clon o copia de cierta matriz\n",
    "\n",
    "Algunas funciones específicas de matrices son:\n",
    "\n",
    "* np.matrix: resultado casi identico a la función mas general np.array ,pero posee algunas propiedades adicionales específicas de listas, por ejemplo notación sencilla para inversas de matrices.\n",
    "* np.eye: crear una matriz con 1s en su diagonal principal y ceros en el resto\n",
    "* np.identity : crear una matriz identidad\n",
    "\n",
    "Algunas funciones que solo aplican a vectores y no a matrices son:\n",
    "\n",
    "* np.arange\n",
    "* np.linspace\n",
    "\n",
    "Existen otras pero estas son posiblemente las mas comunes. Puedes consultar las otras disponibles en: https://docs.scipy.org/doc/numpy/reference/routines.array-creation.html\n",
    "\n",
    "**Ejercicio**: Investigar y ejemplificar diferencias entre np.array y np.matrix"
   ]
  },
  {
   "cell_type": "markdown",
   "metadata": {},
   "source": [
    "#### Resultado de Investigacion de diferencias entre np.array y np.matrix\n",
    "* Una de las diferencias principales es que np.array puede trabajar con arreglos de n dimensiones, pero np.matrix solo trabaja con arreglos bi-dimensionales\n",
    "* Otra diferencia es que existen formas alternativas de definir matrices utilizando np.matrix\n",
    "* El uso de np.matrix tambien facilita la multiplicacion de matrices, ya que puede hacerse utilizando facilmente a*b"
   ]
  },
  {
   "cell_type": "code",
   "execution_count": 13,
   "metadata": {},
   "outputs": [
    {
     "name": "stdout",
     "output_type": "stream",
     "text": [
      "[[4 3]\n",
      " [2 1]\n",
      " [1 2]]\n"
     ]
    }
   ],
   "source": [
    "a = np.matrix('4 3; 2 1;1 2')\n",
    "print(a)"
   ]
  },
  {
   "cell_type": "code",
   "execution_count": 11,
   "metadata": {},
   "outputs": [
    {
     "name": "stdout",
     "output_type": "stream",
     "text": [
      "[[4 3]\n",
      " [2 1]\n",
      " [1 2]]\n",
      "[[1 2]\n",
      " [3 4]]\n",
      "Rango del tensor: 2\n",
      "Forma o tamaño: (3, 3)\n",
      "Matriz de ceros de forma: (3, 3)\n",
      "Filas: 3\n",
      "Columnas: 3\n",
      "Matriz:\n",
      "[[-1  2  3]\n",
      " [-2  0  1]\n",
      " [ 0 -1 -1]]\n",
      "Matriz Inversa:\n",
      "[[ 1. -1.  2.]\n",
      " [-2.  1. -5.]\n",
      " [ 2. -1.  4.]]\n"
     ]
    }
   ],
   "source": [
    "matriz_1 = np.matrix([[-1,2,3],[-2,0,1],[0,-1,-1]])\n",
    "\n",
    "tamaño_matriz = matriz_1.shape\n",
    "\n",
    "print(\"Rango del tensor:\",matriz_1.ndim) #rango del tensor, para matriz es 2\n",
    "print(\"Forma o tamaño:\",tamaño_matriz) # tupla representando el tamaño de la matríz\n",
    "\n",
    "print(\"Matriz de ceros de forma:\",tamaño_matriz)\n",
    "print(\"Filas:\",tamaño_matriz[0])\n",
    "print(\"Columnas:\",tamaño_matriz[1])\n",
    "print(\"Matriz:\")\n",
    "print(matriz_1)\n",
    "print(\"Matriz Inversa:\")\n",
    "print(matriz_1.I)"
   ]
  },
  {
   "cell_type": "code",
   "execution_count": 51,
   "metadata": {},
   "outputs": [
    {
     "name": "stdout",
     "output_type": "stream",
     "text": [
      "Rango del tensor: 2\n",
      "Forma o tamaño: (2, 3)\n",
      "Matriz de ceros de forma: (2, 3)\n",
      "Filas: 2\n",
      "Columnas: 3\n",
      "Matriz:\n",
      "[[ 2.  4.  6.]\n",
      " [ 8. 10. 12.]]\n"
     ]
    }
   ],
   "source": [
    "matriz_vacia = np.empty((2,3))\n",
    "\n",
    "tamaño_matriz = matriz_vacia.shape\n",
    "\n",
    "print(\"Rango del tensor:\",matriz_vacia.ndim) #rango del tensor, para matriz es 2\n",
    "print(\"Forma o tamaño:\",tamaño_matriz) # tupla representando el tamaño de la matríz\n",
    "\n",
    "print(\"Matriz de ceros de forma:\",tamaño_matriz)\n",
    "print(\"Filas:\",tamaño_matriz[0])\n",
    "print(\"Columnas:\",tamaño_matriz[1])\n",
    "print(\"Matriz:\")\n",
    "print(matriz_vacia)"
   ]
  },
  {
   "cell_type": "code",
   "execution_count": 52,
   "metadata": {},
   "outputs": [
    {
     "name": "stdout",
     "output_type": "stream",
     "text": [
      "Rango del tensor: 2\n",
      "Forma o tamaño: (4, 5)\n",
      "Matriz de ceros de forma: (4, 5)\n",
      "Filas: 4\n",
      "Columnas: 5\n",
      "Matriz:\n",
      "[[8 8 8 8 8]\n",
      " [8 8 8 8 8]\n",
      " [8 8 8 8 8]\n",
      " [8 8 8 8 8]]\n"
     ]
    }
   ],
   "source": [
    "matriz_ochos = np.full((4,5),8)\n",
    "\n",
    "tamaño_matriz = matriz_ochos.shape\n",
    "\n",
    "print(\"Rango del tensor:\",matriz_ochos.ndim) #rango del tensor, para matriz es 2\n",
    "print(\"Forma o tamaño:\",tamaño_matriz) # tupla representando el tamaño de la matríz\n",
    "\n",
    "print(\"Matriz de ceros de forma:\",tamaño_matriz)\n",
    "print(\"Filas:\",tamaño_matriz[0])\n",
    "print(\"Columnas:\",tamaño_matriz[1])\n",
    "print(\"Matriz:\")\n",
    "print(matriz_ochos)"
   ]
  },
  {
   "cell_type": "code",
   "execution_count": 53,
   "metadata": {},
   "outputs": [
    {
     "data": {
      "text/plain": [
       "array([  0.   ,   0.   , 386.325, 278.84 ])"
      ]
     },
     "execution_count": 53,
     "metadata": {},
     "output_type": "execute_result"
    }
   ],
   "source": [
    "np.empty(4)  # el valor varia, experimentemos cambiando el tipo con ndtype = <tipo>"
   ]
  },
  {
   "cell_type": "code",
   "execution_count": 54,
   "metadata": {},
   "outputs": [
    {
     "name": "stdout",
     "output_type": "stream",
     "text": [
      "[[8 8 8 8 8]\n",
      " [8 8 8 8 8]\n",
      " [8 8 8 8 8]\n",
      " [8 8 8 8 8]]\n"
     ]
    }
   ],
   "source": [
    "replica_matriz_ochos = np.copy(matriz_ochos)\n",
    "\n",
    "print(replica_matriz_ochos)"
   ]
  },
  {
   "cell_type": "markdown",
   "metadata": {},
   "source": [
    "**Construir matriz como otra matriz**\n",
    "\n",
    "Similar al caso de vectores, existen algunas funciones que nos permiten crear matrices \"como\" otras matrices ,es decir de la misma forma pero con posibles diferentes valores:\n"
   ]
  },
  {
   "cell_type": "code",
   "execution_count": 15,
   "metadata": {},
   "outputs": [
    {
     "name": "stdout",
     "output_type": "stream",
     "text": [
      "[[9 9 9 9]\n",
      " [9 9 9 9]\n",
      " [9 9 9 9]\n",
      " [9 9 9 9]]\n",
      "[[0 0 0 0]\n",
      " [0 0 0 0]\n",
      " [0 0 0 0]\n",
      " [0 0 0 0]]\n",
      "[[1 1 1 1]\n",
      " [1 1 1 1]\n",
      " [1 1 1 1]\n",
      " [1 1 1 1]]\n",
      "[[   0    0    0    0]\n",
      " [   0    0    0    0]\n",
      " [   0    0 1472    0]\n",
      " [   0    0    0    0]]\n"
     ]
    }
   ],
   "source": [
    "matriz_nueves = np.full((4,4),9)\n",
    "\n",
    "ceros = np.zeros_like(matriz_nueves)\n",
    "unos = np.ones_like(matriz_nueves)\n",
    "vacio = np.empty_like(matriz_nueves)\n",
    "\n",
    "print(matriz_nueves)\n",
    "print(ceros)\n",
    "print(unos)\n",
    "print(vacio)"
   ]
  },
  {
   "cell_type": "markdown",
   "metadata": {},
   "source": [
    "En otros casos algunas funciones tambien devuelven un array  A de la misma forma de otro B pero con el resultado de aplicar alguna función a este, por ejemplo, el siguiente caso devuelve un nuevo vector con la forma de un vector \"x\" resultado de calcular el seno trigonoḿetrico sobre cada uno de sus elementos.:"
   ]
  },
  {
   "cell_type": "code",
   "execution_count": 16,
   "metadata": {},
   "outputs": [
    {
     "name": "stdout",
     "output_type": "stream",
     "text": [
      "[[0. 0. 0. 0.]\n",
      " [0. 0. 0. 0.]\n",
      " [0. 0. 0. 0.]\n",
      " [0. 0. 0. 0.]]\n",
      "[[0.84147098 0.84147098 0.84147098 0.84147098]\n",
      " [0.84147098 0.84147098 0.84147098 0.84147098]\n",
      " [0.84147098 0.84147098 0.84147098 0.84147098]\n",
      " [0.84147098 0.84147098 0.84147098 0.84147098]]\n"
     ]
    }
   ],
   "source": [
    "print(np.sin(ceros))\n",
    "print(np.sin(unos))"
   ]
  },
  {
   "cell_type": "markdown",
   "metadata": {},
   "source": [
    "**Construir un grid** \n",
    "\n",
    "En algunos casos es útil y/o necesario construir un \"grid\" que representa las coordenadas en el plano x,y que sobre las que luego evaluaremos cierta función esto es usado por ejemplo en machine learning para buscar hiper-parametros o visualizar la función de costo respecto de una linea recta respecto de sus parametros.\n",
    "\n",
    "Para el siguiente ejemplo buscamos crear la matriz que contiene el grid de coordenadas para la función:\n",
    "\n",
    "$$z = x^{2} + y^{2}$$\n",
    "\n",
    "<img src=\"http://3.bp.blogspot.com/-sxwhjwdjdao/UW2GAHeFbbI/AAAAAAAAAas/nu2PqSLDHF0/s1600/g4.jpg\">\n",
    "\n"
   ]
  },
  {
   "cell_type": "code",
   "execution_count": 17,
   "metadata": {},
   "outputs": [
    {
     "name": "stdout",
     "output_type": "stream",
     "text": [
      "[[200. 125. 100. 125. 200.]\n",
      " [125.  50.  25.  50. 125.]\n",
      " [100.  25.   0.  25. 100.]\n",
      " [125.  50.  25.  50. 125.]\n",
      " [200. 125. 100. 125. 200.]]\n"
     ]
    }
   ],
   "source": [
    "xv = np.linspace(-10,10,5)\n",
    "yv = np.linspace(-10,10,5)\n",
    "\n",
    "# creamos el grid con las coordenadas en el plano x,y\n",
    "xx,yy = np.meshgrid(xv,yv)\n",
    "\n",
    "# calculamos el valor de evaluar la función z = f(x,y) sobre las coordenadas en el plano\n",
    "z = xx**2 + yy**2\n",
    "\n",
    "# imprimimos la matriz resultado de calcular f(x,y), \n",
    "#cuando estudiemos visualización de datos esta matriz sería graficada\n",
    "print(z)"
   ]
  },
  {
   "cell_type": "code",
   "execution_count": 18,
   "metadata": {},
   "outputs": [
    {
     "data": {
      "image/png": "[encoded data removed]",
      "text/plain": [
       "<Figure size 432x288 with 1 Axes>"
      ]
     },
     "metadata": {
      "needs_background": "light"
     },
     "output_type": "display_data"
    }
   ],
   "source": [
    "plt.contourf(xx,yy,z)\n",
    "plt.show()"
   ]
  },
  {
   "cell_type": "markdown",
   "metadata": {},
   "source": [
    "**Construir matriz luego de redimensionar otro Tensor**\n",
    "\n",
    "En muchos casos necesitamos crear una matriz luego de redimensionar otro Tensor(un vector u otra matriz),es decir cambiar su forma, esto es algo común en DS y lo logramos a partir de la función **np.reshape**"
   ]
  },
  {
   "cell_type": "code",
   "execution_count": 19,
   "metadata": {},
   "outputs": [
    {
     "name": "stdout",
     "output_type": "stream",
     "text": [
      "Vector: [0 1 2 3 4 5 6 7 8 9]\n",
      "Matriz:\n",
      "[[0 1 2 3 4]\n",
      " [5 6 7 8 9]]\n"
     ]
    }
   ],
   "source": [
    "vector = np.arange(10)\n",
    "\n",
    "matriz = np.reshape(vector,(2,5))\n",
    "\n",
    "print(\"Vector:\",vector)\n",
    "print(\"Matriz:\")\n",
    "print(matriz)"
   ]
  },
  {
   "cell_type": "code",
   "execution_count": 60,
   "metadata": {},
   "outputs": [
    {
     "name": "stdout",
     "output_type": "stream",
     "text": [
      "Vector: [0 1 2 3 4 5 6 7 8 9]\n",
      "Matriz:\n",
      "[[0 1]\n",
      " [2 3]\n",
      " [4 5]\n",
      " [6 7]\n",
      " [8 9]]\n"
     ]
    }
   ],
   "source": [
    "vector = np.arange(10)\n",
    "\n",
    "matriz = np.reshape(vector,(5,2))\n",
    "\n",
    "print(\"Vector:\",vector)\n",
    "print(\"Matriz:\")\n",
    "print(matriz)"
   ]
  },
  {
   "cell_type": "code",
   "execution_count": 61,
   "metadata": {},
   "outputs": [
    {
     "name": "stdout",
     "output_type": "stream",
     "text": [
      "[[ 0  1  2  3]\n",
      " [ 4  5  6  7]\n",
      " [ 8  9 10 11]\n",
      " [12 13 14 15]\n",
      " [16 17 18 19]]\n"
     ]
    }
   ],
   "source": [
    "matriz = np.reshape(np.arange(20),(5,4))\n",
    "\n",
    "print(matriz)"
   ]
  },
  {
   "cell_type": "code",
   "execution_count": 62,
   "metadata": {},
   "outputs": [
    {
     "name": "stdout",
     "output_type": "stream",
     "text": [
      "[[ 0  1  2  3  4]\n",
      " [ 5  6  7  8  9]\n",
      " [10 11 12 13 14]\n",
      " [15 16 17 18 19]]\n"
     ]
    }
   ],
   "source": [
    "matriz_reshaped = np.reshape(matriz,(4,5))\n",
    "\n",
    "print(matriz_reshaped)"
   ]
  },
  {
   "cell_type": "markdown",
   "metadata": {},
   "source": [
    "**Contruir matriz identidad**\n",
    "\n",
    "La matriz identidad es aquella matriz cuadrada para la cual los elementos de su diagonal principal son igual 1 y el resto a 0. Y cumple con la propiedad de ser el elemento neutro del producto de matrices(similar al 1 con escalares , 1xn = n ) lo cual significa que el resultado de aplicar el producto de matrices entre una matriz A y la matriz identidad I es igual a A:\n",
    "$$AI = A$$"
   ]
  },
  {
   "cell_type": "code",
   "execution_count": 63,
   "metadata": {},
   "outputs": [
    {
     "data": {
      "text/plain": [
       "array([[1., 0., 0.],\n",
       "       [0., 1., 0.],\n",
       "       [0., 0., 1.]])"
      ]
     },
     "execution_count": 63,
     "metadata": {},
     "output_type": "execute_result"
    }
   ],
   "source": [
    "np.identity(3)"
   ]
  },
  {
   "cell_type": "code",
   "execution_count": 64,
   "metadata": {},
   "outputs": [
    {
     "data": {
      "text/plain": [
       "array([[1., 0.],\n",
       "       [0., 1.]])"
      ]
     },
     "execution_count": 64,
     "metadata": {},
     "output_type": "execute_result"
    }
   ],
   "source": [
    "np.identity(2)"
   ]
  },
  {
   "cell_type": "code",
   "execution_count": 65,
   "metadata": {},
   "outputs": [
    {
     "name": "stdout",
     "output_type": "stream",
     "text": [
      "[[1. 0. 0. 0.]\n",
      " [0. 1. 0. 0.]\n",
      " [0. 0. 1. 0.]\n",
      " [0. 0. 0. 1.]]\n"
     ]
    }
   ],
   "source": [
    "matriz_identidad4 = np.identity(4)\n",
    "\n",
    "print(matriz_identidad4)"
   ]
  },
  {
   "cell_type": "markdown",
   "metadata": {},
   "source": [
    "Podemos utilizar broadcasting y una matriz identidad para construir una matriz cuadrada con cierto valor en su diagonal principal . El siguiente ejemplo crea una matriz  cuadrada de 4x4 inicializada con 5 en su diagonal principal y 0 en el resto de la matriz."
   ]
  },
  {
   "cell_type": "code",
   "execution_count": 66,
   "metadata": {},
   "outputs": [
    {
     "data": {
      "text/plain": [
       "array([[5., 0., 0., 0.],\n",
       "       [0., 5., 0., 0.],\n",
       "       [0., 0., 5., 0.],\n",
       "       [0., 0., 0., 5.]])"
      ]
     },
     "execution_count": 66,
     "metadata": {},
     "output_type": "execute_result"
    }
   ],
   "source": [
    "matriz_identidad4*5"
   ]
  },
  {
   "cell_type": "markdown",
   "metadata": {},
   "source": [
    "El concepto de matriz identidad existe solo para matrices cuadradas, pero hay casos donde se necesita usar matrices no cuadradas con 1 en su diagonal principal y 0 en cualquier otra posición, para esto podemos usar:\n",
    "\n",
    "**np.eye(filas,columnas)**"
   ]
  },
  {
   "cell_type": "code",
   "execution_count": 67,
   "metadata": {},
   "outputs": [
    {
     "data": {
      "text/plain": [
       "array([[1., 0., 0., 0., 0.],\n",
       "       [0., 1., 0., 0., 0.],\n",
       "       [0., 0., 1., 0., 0.]])"
      ]
     },
     "execution_count": 67,
     "metadata": {},
     "output_type": "execute_result"
    }
   ],
   "source": [
    "np.eye(3,5)"
   ]
  },
  {
   "cell_type": "code",
   "execution_count": 68,
   "metadata": {},
   "outputs": [
    {
     "data": {
      "text/plain": [
       "array([[1., 0., 0.],\n",
       "       [0., 1., 0.],\n",
       "       [0., 0., 1.],\n",
       "       [0., 0., 0.],\n",
       "       [0., 0., 0.]])"
      ]
     },
     "execution_count": 68,
     "metadata": {},
     "output_type": "execute_result"
    }
   ],
   "source": [
    "np.eye(5,3)"
   ]
  },
  {
   "cell_type": "markdown",
   "metadata": {},
   "source": [
    "Matriz identidad on np.eye"
   ]
  },
  {
   "cell_type": "code",
   "execution_count": 69,
   "metadata": {},
   "outputs": [
    {
     "data": {
      "text/plain": [
       "array([[1., 0., 0.],\n",
       "       [0., 1., 0.],\n",
       "       [0., 0., 1.]])"
      ]
     },
     "execution_count": 69,
     "metadata": {},
     "output_type": "execute_result"
    }
   ],
   "source": [
    "np.eye(3,3)"
   ]
  },
  {
   "cell_type": "markdown",
   "metadata": {},
   "source": [
    "Podemos utilizar un  tercer parametro en np.eye para especificar la digonal a inicializar con 1(no necesariamente la principal)"
   ]
  },
  {
   "cell_type": "code",
   "execution_count": 70,
   "metadata": {},
   "outputs": [
    {
     "data": {
      "text/plain": [
       "array([[0., 1., 0.],\n",
       "       [0., 0., 1.],\n",
       "       [0., 0., 0.],\n",
       "       [0., 0., 0.],\n",
       "       [0., 0., 0.]])"
      ]
     },
     "execution_count": 70,
     "metadata": {},
     "output_type": "execute_result"
    }
   ],
   "source": [
    "np.eye(5,3,1)"
   ]
  },
  {
   "cell_type": "code",
   "execution_count": 71,
   "metadata": {},
   "outputs": [
    {
     "data": {
      "text/plain": [
       "array([[0., 0., 1.],\n",
       "       [0., 0., 0.],\n",
       "       [0., 0., 0.],\n",
       "       [0., 0., 0.],\n",
       "       [0., 0., 0.]])"
      ]
     },
     "execution_count": 71,
     "metadata": {},
     "output_type": "execute_result"
    }
   ],
   "source": [
    "np.eye(5,3,2)"
   ]
  },
  {
   "cell_type": "code",
   "execution_count": 72,
   "metadata": {},
   "outputs": [
    {
     "data": {
      "text/plain": [
       "array([[0., 0., 0.],\n",
       "       [1., 0., 0.],\n",
       "       [0., 1., 0.],\n",
       "       [0., 0., 1.],\n",
       "       [0., 0., 0.]])"
      ]
     },
     "execution_count": 72,
     "metadata": {},
     "output_type": "execute_result"
    }
   ],
   "source": [
    "np.eye(5,3,-1)"
   ]
  },
  {
   "cell_type": "code",
   "execution_count": 73,
   "metadata": {},
   "outputs": [
    {
     "data": {
      "text/plain": [
       "array([[0., 0., 0.],\n",
       "       [0., 0., 0.],\n",
       "       [1., 0., 0.],\n",
       "       [0., 1., 0.],\n",
       "       [0., 0., 1.]])"
      ]
     },
     "execution_count": 73,
     "metadata": {},
     "output_type": "execute_result"
    }
   ],
   "source": [
    "np.eye(5,3,-2)"
   ]
  },
  {
   "cell_type": "markdown",
   "metadata": {},
   "source": [
    "**Contruir matriz Diagonal**\n",
    "\n",
    "Una matriz diagonal , es una matriz cuadrada de n*n la cual tiene todos sus elementos igual a 0, excepto los de su diagonal principal que pueden ser cualquier valor diferente de 0(a diferencia de cuando usamos np.eye o matrices identidad donde el valor de la diagonal  es  igual a 1). Para crear matrices diagonales en numpy podemos usar **np.diag** enviando como parametro un vector de n elementos que pertenecen a la diagonal principal."
   ]
  },
  {
   "cell_type": "code",
   "execution_count": 74,
   "metadata": {},
   "outputs": [
    {
     "name": "stdout",
     "output_type": "stream",
     "text": [
      "[[1 0 0 0 0]\n",
      " [0 2 0 0 0]\n",
      " [0 0 3 0 0]\n",
      " [0 0 0 4 0]\n",
      " [0 0 0 0 5]]\n"
     ]
    }
   ],
   "source": [
    "matriz_diagonal = np.diag([1,2,3,4,5])\n",
    "\n",
    "print(matriz_diagonal)"
   ]
  },
  {
   "cell_type": "code",
   "execution_count": 75,
   "metadata": {},
   "outputs": [
    {
     "name": "stdout",
     "output_type": "stream",
     "text": [
      "Vector de elementos en la diagonal: [5, 4, 3, 2, 1]\n",
      "Matriz diagonal:\n",
      "[[5 0 0 0 0]\n",
      " [0 4 0 0 0]\n",
      " [0 0 3 0 0]\n",
      " [0 0 0 2 0]\n",
      " [0 0 0 0 1]]\n"
     ]
    }
   ],
   "source": [
    "v = [5,4,3,2,1]\n",
    "matriz_diagonal = np.diag(v)\n",
    "\n",
    "print(\"Vector de elementos en la diagonal:\",v)\n",
    "print(\"Matriz diagonal:\")\n",
    "print(matriz_diagonal)"
   ]
  },
  {
   "cell_type": "markdown",
   "metadata": {},
   "source": [
    "### Accediendo elementos específicos de una matriz\n",
    "\n",
    "Similar a cuando estudiamos colecciones como listas y tuplas , en muchos casos necesitamos acceder a elementos específicos de cierta matriz , en algunos casos únicamente para consultar los datos que esta contiene o bien para utilizarlos en alguna otra operación o en otros casos para modificar solo ciertos elementos de la matriz. Cuando estudiamos vectores no dedicamos mucho tiempo a esto ya que es exactamente igual al caso de listas (lo cual ya habiamos visto a detalle antes)  pero para el caso de matrices(y tensores de mayor dimensionalidad como veremos) existen algunos detalles adicionales que necesitamos conocer.\n",
    "\n",
    "La buena parte de esto es que aun que hay algunos detalles adicionales, el acceso a elementos sigue basado en lo que aprendimos de **indexing**  y **slicing** y todo lo que aprendimos aplica también para matrices.\n",
    "\n",
    "Estudiaremos el acceso a elementos de la matriz dividio en 3 partes:\n",
    "\n",
    "1. Acceso a filas y columnas completas(una única fila  o columna).\n",
    "2. Acceso a elementos específicos de la matriz(cierta fila, cierta columna).\n",
    "3. Multiples filas y/o múltiples columnas de la matriz combinando los 2 anteriores.\n",
    "\n",
    "**Nota** No olvidemos que en Python el primer elemento se representa con la posicion 0 y el ultimo con la posicion n-1, en matemática se acostumbra a hacerlo de 1 a n .\n",
    "\n",
    "\n",
    "#### Acceder a filas completas: \n",
    "Cuando necesitamos acceder a filas completas de la matriz usamos la sintaxis conocida de:\n",
    "\n",
    "**A[indice]**\n",
    "\n",
    "Donde\n",
    "* A = la matriz de \"m\" filas y \"n\" columnas,de la cual queremos acceder una fila\n",
    "* indice = el número de fila a acceder(de -m a m-1)\n",
    "\n",
    "Si la matriz esta organizada de manera tal que cada fila representa una observación u ocurrencia de un evento y cada columna características de esta observación u ocurrencia ,el acceder a cierta fila implica acceder a cierta observación específica."
   ]
  },
  {
   "cell_type": "code",
   "execution_count": 76,
   "metadata": {},
   "outputs": [
    {
     "name": "stdout",
     "output_type": "stream",
     "text": [
      "[1 2 3]\n",
      "[7 8 9]\n"
     ]
    }
   ],
   "source": [
    "matriz = np.array([[1,2,3],[4,5,6],[7,8,9]])\n",
    "\n",
    "print(matriz[0]) #acceder a la primera fila\n",
    "print(matriz[2]) #acceder a la última fila m-1"
   ]
  },
  {
   "cell_type": "code",
   "execution_count": 77,
   "metadata": {},
   "outputs": [
    {
     "name": "stdout",
     "output_type": "stream",
     "text": [
      "[7 8 9]\n",
      "[1 2 3]\n"
     ]
    }
   ],
   "source": [
    "print(matriz[-1]) # acceder a la última fila con indice negativo\n",
    "print(matriz[-3]) # acceder a la primera fila -m con  indice negativo"
   ]
  },
  {
   "cell_type": "code",
   "execution_count": 78,
   "metadata": {},
   "outputs": [
    {
     "name": "stdout",
     "output_type": "stream",
     "text": [
      "[4 5 6]\n",
      "[4 5 6]\n"
     ]
    }
   ],
   "source": [
    "print(matriz[1])  # acceder a la segunda fila con indice positivo\n",
    "print(matriz[-2]) # acceder a la segunda fila con indice negativo"
   ]
  },
  {
   "cell_type": "markdown",
   "metadata": {},
   "source": [
    "Podemos asignar a una variable la fila accesada \n",
    "\n"
   ]
  },
  {
   "cell_type": "code",
   "execution_count": 79,
   "metadata": {},
   "outputs": [
    {
     "name": "stdout",
     "output_type": "stream",
     "text": [
      "[4 5 6] [12 15 18]\n"
     ]
    }
   ],
   "source": [
    "fila2 = matriz[1]\n",
    "\n",
    "fila2_triplicada =fila2*3\n",
    "print(fila2,fila2_triplicada)"
   ]
  },
  {
   "cell_type": "markdown",
   "metadata": {},
   "source": [
    "#### Acceder a columnas completas: \n",
    "Cuando necesitamos acceder a columnas completas de la matriz usamos la sintaxis conocida de:\n",
    "\n",
    "**A[:,indice]**\n",
    "\n",
    "Donde\n",
    "* A = la matriz de \"m\" filas y \"n\" columnas,de la cual queremos acceder una columna.\n",
    "* indice = el número de columna a acceder(de -n a n-1)\n",
    "\n",
    "Si la matriz esta organizada de manera tal que cada fila representa una observación u ocurrencia de un evento y cada columna características de esta observación u ocurrencia ,el acceder a cierta columna implica acceder a cierta característica.\n",
    "\n",
    "**nota** : Al igual que con listas, usamos \":\" para hacer slicing que en este caso indica todas las filas(mas detalles en la siguiente sección). "
   ]
  },
  {
   "cell_type": "code",
   "execution_count": 80,
   "metadata": {},
   "outputs": [
    {
     "name": "stdout",
     "output_type": "stream",
     "text": [
      "[[1 2 3]\n",
      " [4 5 6]\n",
      " [7 8 9]]\n",
      "Columnas individuales:\n",
      "[1 4 7]\n",
      "[3 6 9]\n"
     ]
    }
   ],
   "source": [
    "matriz = np.array([[1,2,3],[4,5,6],[7,8,9]])\n",
    "\n",
    "print(matriz)\n",
    "print(\"Columnas individuales:\")\n",
    "print(matriz[:,0]) #acceder a la primera columna\n",
    "print(matriz[:,2]) #acceder a la última columna n-1"
   ]
  },
  {
   "cell_type": "code",
   "execution_count": 81,
   "metadata": {},
   "outputs": [
    {
     "name": "stdout",
     "output_type": "stream",
     "text": [
      "[[1 2 3]\n",
      " [4 5 6]\n",
      " [7 8 9]]\n",
      "Columnas individuales:\n",
      "[3 6 9]\n",
      "[1 4 7]\n"
     ]
    }
   ],
   "source": [
    "print(matriz)\n",
    "print(\"Columnas individuales:\")\n",
    "print(matriz[:,-1]) # acceder a la última columna con indice negativo\n",
    "print(matriz[:,-3]) # acceder a la primera columna -n con  indice negativo"
   ]
  },
  {
   "cell_type": "code",
   "execution_count": 82,
   "metadata": {},
   "outputs": [
    {
     "name": "stdout",
     "output_type": "stream",
     "text": [
      "[[1 2 3]\n",
      " [4 5 6]\n",
      " [7 8 9]]\n",
      "Columnas individuales:\n",
      "[2 5 8]\n",
      "[2 5 8]\n"
     ]
    }
   ],
   "source": [
    "print(matriz)\n",
    "print(\"Columnas individuales:\")\n",
    "print(matriz[:,1])  # acceder a la segunda columna con indice positivo\n",
    "print(matriz[:,-2]) # acceder a la segunda columna con indice negativo"
   ]
  },
  {
   "cell_type": "code",
   "execution_count": 83,
   "metadata": {},
   "outputs": [
    {
     "name": "stdout",
     "output_type": "stream",
     "text": [
      "[[1 2 3]\n",
      " [4 5 6]\n",
      " [7 8 9]]\n",
      "[3 6 9] [ 9 18 27]\n"
     ]
    }
   ],
   "source": [
    "columna3 = matriz[:,2]\n",
    "\n",
    "columna3_triplicada =columna3*3\n",
    "print(matriz)\n",
    "print(columna3,columna3_triplicada)"
   ]
  },
  {
   "cell_type": "markdown",
   "metadata": {},
   "source": [
    "Si consultamos el atributo shape en un vector obtenido al acceder a una fila o columna específica podemos ver que tenemos una **dimensión desconocida** o no específicada. En algunos casos puede llevar a comportamientos no predecibles  y/o inesperados."
   ]
  },
  {
   "cell_type": "code",
   "execution_count": 84,
   "metadata": {},
   "outputs": [
    {
     "data": {
      "text/plain": [
       "(3,)"
      ]
     },
     "execution_count": 84,
     "metadata": {},
     "output_type": "execute_result"
    }
   ],
   "source": [
    "columna3.shape"
   ]
  },
  {
   "cell_type": "markdown",
   "metadata": {},
   "source": [
    "En algunos casos queremos eliminar este compartamiento y asegurarnos de poseer un valor de 1 en lugar del valor no especifidado , podemos para esto usar la función \"expand_dims\" e indicarle si queremos convertir el vector de n elementos en una matriz de 1 fila y columnas o n filas y una columna"
   ]
  },
  {
   "cell_type": "code",
   "execution_count": 85,
   "metadata": {},
   "outputs": [
    {
     "name": "stdout",
     "output_type": "stream",
     "text": [
      "[[3 6 9]]\n",
      "(1, 3)\n"
     ]
    }
   ],
   "source": [
    "una_fila_3_cols = np.expand_dims(columna3,0) # el parametro 0 indica crear una matriz 1 fila con n columnas\n",
    "\n",
    "print(una_fila_3_cols)\n",
    "print(una_fila_3_cols.shape)"
   ]
  },
  {
   "cell_type": "code",
   "execution_count": 86,
   "metadata": {},
   "outputs": [
    {
     "name": "stdout",
     "output_type": "stream",
     "text": [
      "[[3]\n",
      " [6]\n",
      " [9]]\n",
      "(3, 1)\n"
     ]
    }
   ],
   "source": [
    "una_col_3_filas = np.expand_dims(columna3,1) # el parametro 1 indica crear una matriz de n filas y 1 columna\n",
    "\n",
    "print(una_col_3_filas)\n",
    "print(una_col_3_filas.shape)"
   ]
  },
  {
   "cell_type": "markdown",
   "metadata": {},
   "source": [
    "Aun que menos común y poco necesario , también podemos realizar la operacion contraria:convertir 1 matriz con ya sea 1 sola fila o 1 sola columna, en un vector con una dimensión no definida. usando **np.squeeze**"
   ]
  },
  {
   "cell_type": "code",
   "execution_count": 87,
   "metadata": {},
   "outputs": [
    {
     "name": "stdout",
     "output_type": "stream",
     "text": [
      "[3 6 9]\n",
      "(3,)\n"
     ]
    }
   ],
   "source": [
    "print(np.squeeze(una_col_3_filas))\n",
    "print(np.squeeze(una_col_3_filas).shape)"
   ]
  },
  {
   "cell_type": "markdown",
   "metadata": {},
   "source": [
    "#### Acceder a elementos específicos(indexing): \n",
    "En muchos casos necesitamos acceder a elementos específicos de la matriz ya sea como consulta, usarlos en otro cálculo o para cambiar su valor, podemos entonces acceder a elementos específicos de la matriz a partir de su posición (fila y columna).\n",
    "\n",
    "**A[fila,columna]**\n",
    "\n",
    "Donde\n",
    "* A = la matriz de \"m\" filas y \"n\" columnas,de la cual queremos acceder un elemento.\n",
    "* fila = el número de columna a acceder(de -m a m-1)\n",
    "* columna = el número de columna a acceder (de -n a n-1)\n",
    "\n",
    "Si la matriz esta organizada de manera tal que cada fila representa una observación u ocurrencia de un evento y cada columna características de esta observación u ocurrencia ,el acceder a un elemento localizado en cierta fila y columna se interpreta como: la característica j de la observación i."
   ]
  },
  {
   "cell_type": "code",
   "execution_count": 88,
   "metadata": {},
   "outputs": [
    {
     "name": "stdout",
     "output_type": "stream",
     "text": [
      "[[1 2 3]\n",
      " [4 5 6]\n",
      " [7 8 9]]\n",
      "Elementos individuales:\n",
      "1\n",
      "3\n"
     ]
    }
   ],
   "source": [
    "matriz = np.array([\n",
    "    [1,2,3],\n",
    "    [4,5,6],\n",
    "    [7,8,9]])\n",
    "\n",
    "print(matriz)\n",
    "print(\"Elementos individuales:\")\n",
    "print(matriz[0,0]) # acceder a elemento en primera fila y primera columna\n",
    "print(matriz[0,2]) # acceder a elemento en la primera fila la última columna n-1"
   ]
  },
  {
   "cell_type": "code",
   "execution_count": 89,
   "metadata": {},
   "outputs": [
    {
     "name": "stdout",
     "output_type": "stream",
     "text": [
      "[[1 2 3]\n",
      " [4 5 6]\n",
      " [7 8 9]]\n",
      "Elementos individuales:\n",
      "3\n",
      "1\n"
     ]
    }
   ],
   "source": [
    "print(matriz)\n",
    "print(\"Elementos individuales:\")\n",
    "print(matriz[0,-1]) # acceder a elemento en la primera fila y la última columna con indice negativo\n",
    "print(matriz[-3,-3]) # acceder a elemento en la primera fila y la primera columna -n con  indice negativo"
   ]
  },
  {
   "cell_type": "code",
   "execution_count": 90,
   "metadata": {},
   "outputs": [
    {
     "name": "stdout",
     "output_type": "stream",
     "text": [
      "[[1 2 3]\n",
      " [4 5 6]\n",
      " [7 8 9]]\n",
      "Elementos individuales:\n",
      "5\n",
      "5\n"
     ]
    }
   ],
   "source": [
    "print(matriz)\n",
    "print(\"Elementos individuales:\")\n",
    "print(matriz[1,1])  # acceder elemento en la segunda fila con indice positivo y  la segunda columna con indice positivo\n",
    "print(matriz[-2,-2]) # accederelemento en la segunda fila y  la segunda columna con indice negativo"
   ]
  },
  {
   "cell_type": "markdown",
   "metadata": {},
   "source": [
    "**Nota** La sintaxis vista utilizando un unico par de corchetes y separar el indice de filas del de columnas por comas es la forma recomendada de hacerlo tanto por performance y legibilidad, la siguiente celda logra el mismo resultado de la anterior pero es menos eficiente, esto por que hay 2 operaciones en lugar de 1:\n",
    "\n",
    "* Primero se accede a una fila de la matriz y se crea un vector intermedio temporal para esta.\n",
    "* Luego accedemos a un elemento del vector intermedio temporal."
   ]
  },
  {
   "cell_type": "code",
   "execution_count": 91,
   "metadata": {},
   "outputs": [
    {
     "name": "stdout",
     "output_type": "stream",
     "text": [
      "[[1 2 3]\n",
      " [4 5 6]\n",
      " [7 8 9]]\n",
      "Elementos individuales:\n",
      "5\n",
      "5\n"
     ]
    }
   ],
   "source": [
    "print(matriz)\n",
    "print(\"Elementos individuales:\")\n",
    "print(matriz[1][1])  # acceder elemento en la segunda fila con indice positivo y  la segunda columna con indice positivo\n",
    "print(matriz[-2][-2]) # acceder elemento en la segunda fila y  la segunda columna con indice negativo"
   ]
  },
  {
   "cell_type": "markdown",
   "metadata": {},
   "source": [
    "#### Acceder sub-porciones de una matriz(slicing): \n",
    "En algunos casos necesitamos acceder sub-porciones de la matriz, por ejemplo casos como los siguientes:\n",
    "* Las primeras 3 filas , últimas 2 columnas.\n",
    "* Las últimas 5 filas , las columnas 2,4,6.\n",
    "* Las filas de la 10 a la 20 , primeras 5 columnas.\n",
    "* Ultima fila , últimas 3 columnas\n",
    "\n",
    "Estos requieren acceder más de una fila, o mas de una columna(o ambos casos) por lo tanto no podemos específicar solo una fila o solo una columna como en los ejemplos anteriores. Por suerte podemos extender el concepto de slicing ya estudiado a este caso, solo necesitamos pensar cada dimensión de manera individual.\n",
    "\n",
    "Utilizaremos nuevamente el operador \":\" para indicar sub-porciones, y pensamos de manera independiete filas y columnas por lo cual podemos usar hasta  2 operadores \":\" al acceder elementos de una matriz.\n",
    "\n",
    "\n",
    "**A[fila_inicio:fila_fin,columna_inicio:columna_fin]**\n",
    "\n",
    "Donde\n",
    "* A = la matriz de \"m\" filas y \"n\" columnas,de la cual queremos acceder una sub-porcion\n",
    "* fila_inicio\n",
    "* fila_fin\n",
    "* columna_inicio\n",
    "* columna_fin\n",
    "\n",
    "Otra manera de acceder a múltiples columnas o filas de una matriz es usando una lista con los indices deseados, por ejemplo si deseamos acceder a la primera y quinta fila podemos usar una lista con los indices [0,4].\n",
    "\n",
    "\n",
    "**A[lista_filas,lista_columnas]**\n",
    "\n",
    "Donde\n",
    "* A = la matriz de \"m\" filas y \"n\" columnas,de la cual queremos acceder una sub-porcion\n",
    "* lista_filas: lista de las filas  a acceder\n",
    "* lista_columnas: lista de las columnas a acceder\n",
    "\n",
    "O bien podemos combinar estos 2 casos y usar \":\" para indicar filas(o columnas) y una lista para indicar columnas(o filas)."
   ]
  },
  {
   "cell_type": "code",
   "execution_count": 92,
   "metadata": {},
   "outputs": [
    {
     "name": "stdout",
     "output_type": "stream",
     "text": [
      "[[ 1  2  3]\n",
      " [ 4  5  6]\n",
      " [ 7  8  9]\n",
      " [10 11 12]]\n"
     ]
    }
   ],
   "source": [
    "matriz = np.array([[1,2,3],[4,5,6],[7,8,9],[10,11,12]])\n",
    "\n",
    "print(matriz)"
   ]
  },
  {
   "cell_type": "markdown",
   "metadata": {},
   "source": [
    "* Primeras 3 filas ,últimas 2 columnas "
   ]
  },
  {
   "cell_type": "code",
   "execution_count": 93,
   "metadata": {},
   "outputs": [
    {
     "name": "stdout",
     "output_type": "stream",
     "text": [
      "[[2 3]\n",
      " [5 6]\n",
      " [8 9]]\n"
     ]
    }
   ],
   "source": [
    "print(matriz[0:3,-2:])"
   ]
  },
  {
   "cell_type": "markdown",
   "metadata": {},
   "source": [
    "* Las últimas 2 filas , las columnas 0,2"
   ]
  },
  {
   "cell_type": "code",
   "execution_count": 94,
   "metadata": {},
   "outputs": [
    {
     "name": "stdout",
     "output_type": "stream",
     "text": [
      "[[10 12]]\n"
     ]
    }
   ],
   "source": [
    "print(matriz[-1:,[0,2]])"
   ]
  },
  {
   "cell_type": "markdown",
   "metadata": {},
   "source": [
    "* Las filas de la 1 a la 2 , primeras 2 columnas."
   ]
  },
  {
   "cell_type": "code",
   "execution_count": 95,
   "metadata": {},
   "outputs": [
    {
     "name": "stdout",
     "output_type": "stream",
     "text": [
      "[[4 5]\n",
      " [7 8]]\n"
     ]
    }
   ],
   "source": [
    "print(matriz[1:3,:2]) # recordemos que el limite superior es no incluyente por lo tanto usamos 3 en lugar de 2"
   ]
  },
  {
   "cell_type": "markdown",
   "metadata": {},
   "source": [
    "* Ultima fila , últimas 2 columnas"
   ]
  },
  {
   "cell_type": "code",
   "execution_count": 96,
   "metadata": {},
   "outputs": [
    {
     "name": "stdout",
     "output_type": "stream",
     "text": [
      "[11 12]\n"
     ]
    }
   ],
   "source": [
    "print(matriz[-1,-2:])"
   ]
  },
  {
   "cell_type": "markdown",
   "metadata": {},
   "source": [
    "### Matriz transpuesta o Transpuesta de una Matriz\n",
    "\n",
    "La transpuesta de una matriz A es una nueva matriz que puede ser definida según cualquiera de las descripciones comunes a continuación:\n",
    "\n",
    "* Matriz que se obtiene al reflejar la matriz sobre su diagonal principal.\n",
    "* Matriz que se obtiene al convertir filas a columnas y columnas a filas.\n",
    "\n",
    "<img src=\"https://4.bp.blogspot.com/-N5CZYpsTOmc/WLv0zcBnKII/AAAAAAAAaCs/HSsDvDA5KnMbplqnYz1HMuj5QVSpaI54gCLcB/s1600/Traspuesta_ejemplos.png\">\n",
    "\n",
    "En data science es común utilizar la transposición en casos donde debemos trabajar y combinar en un mismo proyecto 2 datasets con distinta orientación, por ejemplo en deep learning en algunos casos se poseen  y deben integrar datasets donde uno de ellos esta como: 1 row por observación  y una columna por feature, y otro dataset donde estan almacenados como 1 row por característica o feature y 1 columna por observación.\n",
    "\n",
    "**Nota**: siempre debemos tener en cuenta el significado y/o interpretación de una matriz y trabajar consistentemente con este significado, esto toma mayor importancia al combinar 2 datasets como en el ejemplo anterior."
   ]
  },
  {
   "cell_type": "code",
   "execution_count": 97,
   "metadata": {},
   "outputs": [
    {
     "name": "stdout",
     "output_type": "stream",
     "text": [
      "Matriz:\n"
     ]
    },
    {
     "data": {
      "text/plain": [
       "array([[ 1,  2,  3],\n",
       "       [ 4,  5,  6],\n",
       "       [ 7,  8,  9],\n",
       "       [10, 11, 12]])"
      ]
     },
     "execution_count": 97,
     "metadata": {},
     "output_type": "execute_result"
    }
   ],
   "source": [
    "print(\"Matriz:\")\n",
    "matriz"
   ]
  },
  {
   "cell_type": "code",
   "execution_count": 98,
   "metadata": {},
   "outputs": [
    {
     "name": "stdout",
     "output_type": "stream",
     "text": [
      "Usando transpose():\n"
     ]
    },
    {
     "data": {
      "text/plain": [
       "array([[ 1,  4,  7, 10],\n",
       "       [ 2,  5,  8, 11],\n",
       "       [ 3,  6,  9, 12]])"
      ]
     },
     "execution_count": 98,
     "metadata": {},
     "output_type": "execute_result"
    }
   ],
   "source": [
    "print(\"Usando transpose():\")\n",
    "matriz.transpose()"
   ]
  },
  {
   "cell_type": "code",
   "execution_count": 99,
   "metadata": {},
   "outputs": [
    {
     "name": "stdout",
     "output_type": "stream",
     "text": [
      "Usando .T\n"
     ]
    },
    {
     "data": {
      "text/plain": [
       "array([[ 1,  4,  7, 10],\n",
       "       [ 2,  5,  8, 11],\n",
       "       [ 3,  6,  9, 12]])"
      ]
     },
     "execution_count": 99,
     "metadata": {},
     "output_type": "execute_result"
    }
   ],
   "source": [
    "print(\"Usando .T\")\n",
    "matriz.T"
   ]
  },
  {
   "cell_type": "code",
   "execution_count": 100,
   "metadata": {},
   "outputs": [
    {
     "name": "stdout",
     "output_type": "stream",
     "text": [
      "Matriz:\n"
     ]
    },
    {
     "data": {
      "text/plain": [
       "array([[ 0,  1,  2,  3],\n",
       "       [ 4,  5,  6,  7],\n",
       "       [ 8,  9, 10, 11],\n",
       "       [12, 13, 14, 15]])"
      ]
     },
     "execution_count": 100,
     "metadata": {},
     "output_type": "execute_result"
    }
   ],
   "source": [
    "matriz_cuadrada = np.reshape(np.arange(16),(4,4))\n",
    "print(\"Matriz:\")\n",
    "matriz_cuadrada"
   ]
  },
  {
   "cell_type": "code",
   "execution_count": 101,
   "metadata": {},
   "outputs": [
    {
     "name": "stdout",
     "output_type": "stream",
     "text": [
      "Usando transpose():\n"
     ]
    },
    {
     "data": {
      "text/plain": [
       "array([[ 0,  4,  8, 12],\n",
       "       [ 1,  5,  9, 13],\n",
       "       [ 2,  6, 10, 14],\n",
       "       [ 3,  7, 11, 15]])"
      ]
     },
     "execution_count": 101,
     "metadata": {},
     "output_type": "execute_result"
    }
   ],
   "source": [
    "print(\"Usando transpose():\")\n",
    "matriz_cuadrada.transpose()"
   ]
  },
  {
   "cell_type": "code",
   "execution_count": 102,
   "metadata": {},
   "outputs": [
    {
     "name": "stdout",
     "output_type": "stream",
     "text": [
      "Usando .T\n"
     ]
    },
    {
     "data": {
      "text/plain": [
       "array([[ 0,  4,  8, 12],\n",
       "       [ 1,  5,  9, 13],\n",
       "       [ 2,  6, 10, 14],\n",
       "       [ 3,  7, 11, 15]])"
      ]
     },
     "execution_count": 102,
     "metadata": {},
     "output_type": "execute_result"
    }
   ],
   "source": [
    "print(\"Usando .T\")\n",
    "matriz_cuadrada.T"
   ]
  },
  {
   "cell_type": "code",
   "execution_count": 103,
   "metadata": {},
   "outputs": [
    {
     "data": {
      "text/plain": [
       "array([[ 0,  1,  2,  3],\n",
       "       [ 4,  5,  6,  7],\n",
       "       [ 8,  9, 10, 11],\n",
       "       [12, 13, 14, 15]])"
      ]
     },
     "execution_count": 103,
     "metadata": {},
     "output_type": "execute_result"
    }
   ],
   "source": [
    "matriz_cuadrada"
   ]
  },
  {
   "cell_type": "markdown",
   "metadata": {},
   "source": [
    "### Concatenar matrices\n",
    "\n",
    "De manera similar a la concatenación de vectores para crear un nuevo vector, podemos concatenar matrices para obtener una nueva matriz , pero ahora poseemos 2 opciones: \n",
    "\n",
    "1. Concatenar por fila.\n",
    "2. Concatenar por columna.\n",
    "\n",
    "Similar a hstack cuando trabajamos con vectores, para concatenar matrices usaremos 3 funciones.\n",
    "\n",
    "1. **np.vstack**: concatenar verticalmente o por fila\n",
    "2. **np.hstack**: concatenar horizontalmente o por columna\n",
    "3. **np.concatenate**: utiliza un parametro nombrado axis para indicar cual de las 2 operaciones realizar , 0 = por fila , 1 = por columna."
   ]
  },
  {
   "cell_type": "code",
   "execution_count": 104,
   "metadata": {},
   "outputs": [
    {
     "data": {
      "text/plain": [
       "array([[0., 0., 0., 0., 1., 1., 1.],\n",
       "       [0., 0., 0., 0., 1., 1., 1.]])"
      ]
     },
     "execution_count": 104,
     "metadata": {},
     "output_type": "execute_result"
    }
   ],
   "source": [
    "ceros = np.zeros((2,4))\n",
    "unos = np.ones((2,3))\n",
    "\n",
    "np.hstack((ceros,unos))"
   ]
  },
  {
   "cell_type": "code",
   "execution_count": 105,
   "metadata": {},
   "outputs": [
    {
     "data": {
      "text/plain": [
       "array([1, 2, 3, 2, 3, 4])"
      ]
     },
     "execution_count": 105,
     "metadata": {},
     "output_type": "execute_result"
    }
   ],
   "source": [
    "a = np.array((1,2,3))\n",
    "b = np.array((2,3,4))\n",
    "np.hstack((a,b))"
   ]
  },
  {
   "cell_type": "code",
   "execution_count": 106,
   "metadata": {},
   "outputs": [
    {
     "name": "stdout",
     "output_type": "stream",
     "text": [
      "[[ 1  2  3 -1 -2 -3]\n",
      " [ 4  5  6 -4 -5 -6]]\n",
      "Forma: (2, 6)\n"
     ]
    }
   ],
   "source": [
    "matriz1 = np.array([[1,2,3],\n",
    "                    [4,5,6]])\n",
    "matriz2 = np.array([[-1,-2,-3],\n",
    "                    [-4,-5,-6]])\n",
    "\n",
    "nueva_matriz = np.hstack((matriz1,matriz2))\n",
    "\n",
    "print(nueva_matriz)\n",
    "print(\"Forma:\",nueva_matriz.shape)"
   ]
  },
  {
   "cell_type": "code",
   "execution_count": 107,
   "metadata": {},
   "outputs": [
    {
     "name": "stdout",
     "output_type": "stream",
     "text": [
      "[[ 1  2  3]\n",
      " [ 4  5  6]\n",
      " [-1 -2 -3]\n",
      " [-4 -5 -6]]\n",
      "Forma: (4, 3)\n"
     ]
    }
   ],
   "source": [
    "nueva_matriz = np.vstack((matriz1,matriz2))\n",
    "\n",
    "print(nueva_matriz)\n",
    "print(\"Forma:\",nueva_matriz.shape)"
   ]
  },
  {
   "cell_type": "code",
   "execution_count": 116,
   "metadata": {},
   "outputs": [
    {
     "name": "stdout",
     "output_type": "stream",
     "text": [
      "[[ 1  2  3]\n",
      " [ 4  5  6]\n",
      " [-1 -2 -3]\n",
      " [-4 -5 -6]]\n",
      "Forma: (4, 3)\n"
     ]
    }
   ],
   "source": [
    "nueva_matrix = np.concatenate((matriz1,matriz2),axis=1)\n",
    "\n",
    "print(nueva_matriz)\n",
    "print(\"Forma:\",nueva_matriz.shape)"
   ]
  },
  {
   "cell_type": "markdown",
   "metadata": {},
   "source": [
    "### ufuncs(universal functions)\n",
    "\n",
    "Ufuncs son funciones que trabajan de manera general independiente de la dimension del objeto al que sean aplicadas, esto significa que la misma función puede ser utilizada sobre valores **escalares**  o sobre **tensores** de cualquier dimensión, en este caso sobre matrices. Cuando es aplicada sobre tensores esta trabaja elemento por elemento soportando \"broadcasting\" .\n",
    "\n",
    "NumPy provee una gran colección de ufuncs comunes en ciencias y que serán muy útiles en data science, ya hemos usado algunas por ejemplo: **np.sin(tensor)** , muchas comunes y que te serán familares son:\n",
    "\n",
    "* np.sign: determinar el signo de un número\n",
    "* np.abs: valor absoluto de un número\n",
    "* np.cos: coseno de un angulo en radianes\n",
    "* np.sin : seno de un angulo en radianes\n",
    "* np.tan : tangente de un angulo en radianes\n",
    "* np.exp : función exponencial e** x\n",
    "* np.log: logaritmo natural\n",
    "* np.log10 : logaritmo base 10\n",
    "* np.log2 : logaritmo base 2\n",
    "* np.sqrt : raiz cuadrada\n",
    "* np.power : potenciacion\n",
    "\n",
    "Al ser aplicadas sobre matrices , las ufuncs obtienen como resultado una matriz con la misma forma de la matriz sobre la que se ejecuta la función resultado de aplicar la función elemento por elemento.\n",
    "\n",
    "Al trabajar una aplicación numérica/científica es recomendable tener a la mano la documentación de las funciones disponibles : https://docs.scipy.org/doc/numpy-1.15.1/reference/routines.math.html\n",
    "\n",
    "#### Nota: \n",
    "En algunos casos requeriremos crear nuestras propias funciones y es recomendable que se apeguen a las ufuncs, es decir que se puedan aplicar independiente de la dimensión del objeto al que se aplican, que soporten broadcasting y muy importante **que su definición evite ciclos y use operaciones vectorizadas y otras ufuncs** , esto será parte de los criterios de evaluación en tareas y exámenes en este curso."
   ]
  },
  {
   "cell_type": "code",
   "execution_count": 73,
   "metadata": {},
   "outputs": [
    {
     "name": "stdout",
     "output_type": "stream",
     "text": [
      "Signo:\n",
      "[[ 1  1  1  1]\n",
      " [ 1  1  1  1]\n",
      " [-1 -1 -1 -1]]\n",
      "Valor absoluto:\n",
      "[[1 2 3 4]\n",
      " [5 6 7 8]\n",
      " [1 2 3 4]]\n",
      "Coseno:\n",
      "[[ 0.54030231 -0.41614684 -0.9899925  -0.65364362]\n",
      " [ 0.28366219  0.96017029  0.75390225 -0.14550003]\n",
      " [ 0.54030231 -0.41614684 -0.9899925  -0.65364362]]\n",
      "Seno:\n",
      "[[ 0.84147098  0.90929743  0.14112001 -0.7568025 ]\n",
      " [-0.95892427 -0.2794155   0.6569866   0.98935825]\n",
      " [-0.84147098 -0.90929743 -0.14112001  0.7568025 ]]\n",
      "Tangente:\n",
      "[[ 1.55740772 -2.18503986 -0.14254654  1.15782128]\n",
      " [-3.38051501 -0.29100619  0.87144798 -6.79971146]\n",
      " [-1.55740772  2.18503986  0.14254654 -1.15782128]]\n",
      "Exponencial:\n",
      "[[  2.71828183e+00   7.38905610e+00   2.00855369e+01   5.45981500e+01]\n",
      " [  1.48413159e+02   4.03428793e+02   1.09663316e+03   2.98095799e+03]\n",
      " [  3.67879441e-01   1.35335283e-01   4.97870684e-02   1.83156389e-02]]\n",
      "Logaritmo natural:\n",
      "[[ 0.          0.69314718  1.09861229  1.38629436]\n",
      " [ 1.60943791  1.79175947  1.94591015  2.07944154]\n",
      " [        nan         nan         nan         nan]]\n"
     ]
    },
    {
     "name": "stderr",
     "output_type": "stream",
     "text": [
      "/Users/llealhernandez/anaconda/envs/py_galileo/lib/python3.6/site-packages/ipykernel_launcher.py:16: RuntimeWarning: invalid value encountered in log\n",
      "  app.launch_new_instance()\n"
     ]
    }
   ],
   "source": [
    "x = np.matrix([[1,2,3,4],[5,6,7,8],[-1,-2,-3,-4]])\n",
    "\n",
    "print(\"Signo:\")\n",
    "print(np.sign(x))\n",
    "print(\"Valor absoluto:\")\n",
    "print(np.abs(x))\n",
    "print(\"Coseno:\")\n",
    "print(np.cos(x))\n",
    "print(\"Seno:\")\n",
    "print(np.sin(x))\n",
    "print(\"Tangente:\")\n",
    "print(np.tan(x))\n",
    "print(\"Exponencial:\")\n",
    "print(np.exp(x))\n",
    "print(\"Logaritmo natural:\")\n",
    "print(np.log(x))"
   ]
  },
  {
   "cell_type": "code",
   "execution_count": 74,
   "metadata": {},
   "outputs": [
    {
     "name": "stdout",
     "output_type": "stream",
     "text": [
      "Logaritmo base 2:\n",
      "[[ 0.          1.          1.5849625   2.        ]\n",
      " [ 2.32192809  2.5849625   2.80735492  3.        ]\n",
      " [        nan         nan         nan         nan]]\n"
     ]
    },
    {
     "name": "stderr",
     "output_type": "stream",
     "text": [
      "/Users/llealhernandez/anaconda/envs/py_galileo/lib/python3.6/site-packages/ipykernel_launcher.py:2: RuntimeWarning: invalid value encountered in log2\n",
      "  \n"
     ]
    }
   ],
   "source": [
    "print(\"Logaritmo base 2:\")\n",
    "print(np.log2(x))"
   ]
  },
  {
   "cell_type": "code",
   "execution_count": 75,
   "metadata": {},
   "outputs": [
    {
     "name": "stdout",
     "output_type": "stream",
     "text": [
      "Raiz cuadrada:\n",
      "[[ 1.          1.41421356  1.73205081  2.        ]\n",
      " [ 2.23606798  2.44948974  2.64575131  2.82842712]\n",
      " [        nan         nan         nan         nan]]\n"
     ]
    },
    {
     "name": "stderr",
     "output_type": "stream",
     "text": [
      "/Users/llealhernandez/anaconda/envs/py_galileo/lib/python3.6/site-packages/ipykernel_launcher.py:2: RuntimeWarning: invalid value encountered in sqrt\n",
      "  \n"
     ]
    }
   ],
   "source": [
    "print(\"Raiz cuadrada:\")\n",
    "print(np.sqrt(x))"
   ]
  },
  {
   "cell_type": "code",
   "execution_count": 76,
   "metadata": {},
   "outputs": [
    {
     "name": "stdout",
     "output_type": "stream",
     "text": [
      "Exponenciacion(cuadrado):\n",
      "[[ 1  4  9 16]\n",
      " [25 36 49 64]\n",
      " [ 1  4  9 16]]\n"
     ]
    }
   ],
   "source": [
    "print(\"Exponenciacion(cuadrado):\")\n",
    "print(np.power(x,2))"
   ]
  },
  {
   "cell_type": "markdown",
   "metadata": {},
   "source": [
    "#### Nota: \n",
    "En algunos casos requeriremos crear nuestras propias funciones y es recomendable que se apeguen a las ufuncs, es decir que se puedan aplicar independiente de la dimensión del objeto al que se aplican, que soporten broadcasting y muy importante **que su definición evite ciclos y use operaciones vectorizadas y otras ufuncs** , esto será parte de los criterios de evaluación en tareas y exámenes en este curso."
   ]
  }
 ],
 "metadata": {
  "kernelspec": {
   "display_name": "Python 3",
   "language": "python",
   "name": "python3"
  },
  "language_info": {
   "codemirror_mode": {
    "name": "ipython",
    "version": 3
   },
   "file_extension": ".py",
   "mimetype": "text/x-python",
   "name": "python",
   "nbconvert_exporter": "python",
   "pygments_lexer": "ipython3",
   "version": "3.8.2"
  }
 },
 "nbformat": 4,
 "nbformat_minor": 2
}
